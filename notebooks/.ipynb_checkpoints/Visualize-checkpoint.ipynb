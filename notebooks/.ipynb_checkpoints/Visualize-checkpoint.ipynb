{
 "cells": [
  {
   "cell_type": "code",
   "execution_count": null,
   "id": "8042957b",
   "metadata": {},
   "outputs": [],
   "source": [
    "import json\n",
    "import numpy as np\n",
    "import matplotlib.pyplot as plt"
   ]
  },
  {
   "cell_type": "code",
   "execution_count": null,
   "id": "1e1a0f90",
   "metadata": {},
   "outputs": [],
   "source": [
    "# import results and params\n",
    "with open('../out/results.json', 'r') as f:\n",
    "    results = json.load(f)\n",
    "    \n",
    "with open('../utils/params.json', 'r') as f:\n",
    "    params = json.load(f)"
   ]
  },
  {
   "cell_type": "code",
   "execution_count": null,
   "id": "d974e044",
   "metadata": {},
   "outputs": [],
   "source": [
    "# plot\n",
    "# DOESNT WORK FOR GAUSS CORRUPTION YET\n",
    "\n",
    "model_type = 'forest'\n",
    "corruption_type = 'label'\n",
    "\n",
    "ind_results = results[model_type][corruption_type]\n",
    "\n",
    "fig, axes = plt.subplots(1, 1, figsize = (15, 6))\n",
    "\n",
    "legend = []\n",
    "\n",
    "for key in ind_results:\n",
    "    axes.plot(params['corruption_levels'], ind_results[key])\n",
    "    if model_type == 'kernel':\n",
    "        legend.append(f'power = {key}')\n",
    "    elif model_type == 'forest':\n",
    "        legend.append(f'num trees = {key}')\n",
    "\n",
    "axes.legend(legend)\n",
    "axes.set_xticks(params['corruption_levels'])\n",
    "axes.set_yticks(np.arange(0, 1.0, 0.1))\n",
    "axes.set_xlabel('Corruption proportion')\n",
    "axes.set_ylabel('Error')\n",
    "_ = axes.set_title(f'{model_type}s with {corruption_type} corruption')"
   ]
  },
  {
   "cell_type": "code",
   "execution_count": null,
   "id": "3d3cc740",
   "metadata": {},
   "outputs": [],
   "source": []
  }
 ],
 "metadata": {
  "kernelspec": {
   "display_name": "Python 3 (ipykernel)",
   "language": "python",
   "name": "python3"
  },
  "language_info": {
   "codemirror_mode": {
    "name": "ipython",
    "version": 3
   },
   "file_extension": ".py",
   "mimetype": "text/x-python",
   "name": "python",
   "nbconvert_exporter": "python",
   "pygments_lexer": "ipython3",
   "version": "3.9.5"
  }
 },
 "nbformat": 4,
 "nbformat_minor": 5
}
